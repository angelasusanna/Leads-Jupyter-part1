{
 "cells": [
  {
   "cell_type": "markdown",
   "id": "260f99fe-0bdb-4534-8f01-f7eae45405e4",
   "metadata": {
    "tags": []
   },
   "source": [
    "***\n",
    "## 3.3 Your turn!\n",
    "***\n"
   ]
  },
  {
   "cell_type": "markdown",
   "id": "317eabd4-327f-4c4f-a539-914634ec47e7",
   "metadata": {},
   "source": [
    "### 1. Write a code to check if a number is positive, negative or zero"
   ]
  },
  {
   "cell_type": "markdown",
   "id": "7c496157-cdaa-44f8-abf8-cc0956d4e332",
   "metadata": {},
   "source": [
    "The number should be entered dynamically.\n",
    "How to start?\n",
    "Think about the input\n",
    "Think about what you need: sequences, branches, loops?"
   ]
  },
  {
   "cell_type": "code",
   "execution_count": 1,
   "id": "d1bed09a-a523-47cf-9429-c5318af92dbd",
   "metadata": {},
   "outputs": [
    {
     "name": "stdin",
     "output_type": "stream",
     "text": [
      "Give me number! 9\n"
     ]
    },
    {
     "name": "stdout",
     "output_type": "stream",
     "text": [
      "Number is positive!\n"
     ]
    }
   ],
   "source": [
    "inNum = int(input('Give me a number!',))\n",
    "\n",
    "if inNum == 0:\n",
    "    print('Number is zero!')\n",
    "elif inNum < 0:\n",
    "    print('Number is negative!')\n",
    "else:\n",
    "    print ('Number is positive!')                        "
   ]
  },
  {
   "cell_type": "markdown",
   "id": "2d7908fb-5d86-4637-bc8a-2b055c72e644",
   "metadata": {
    "tags": []
   },
   "source": [
    "### 2. Write a code to loop through a list to find out who falls within a low-income group (<30000) and would need support for the program.\n"
   ]
  },
  {
   "cell_type": "code",
   "execution_count": 2,
   "id": "2ee01ba3-8936-4218-a53c-d3053f0e6a32",
   "metadata": {},
   "outputs": [
    {
     "data": {
      "text/html": [
       "<div>\n",
       "<style scoped>\n",
       "    .dataframe tbody tr th:only-of-type {\n",
       "        vertical-align: middle;\n",
       "    }\n",
       "\n",
       "    .dataframe tbody tr th {\n",
       "        vertical-align: top;\n",
       "    }\n",
       "\n",
       "    .dataframe thead th {\n",
       "        text-align: right;\n",
       "    }\n",
       "</style>\n",
       "<table border=\"1\" class=\"dataframe\">\n",
       "  <thead>\n",
       "    <tr style=\"text-align: right;\">\n",
       "      <th></th>\n",
       "      <th>Name</th>\n",
       "      <th>Income</th>\n",
       "    </tr>\n",
       "  </thead>\n",
       "  <tbody>\n",
       "    <tr>\n",
       "      <th>0</th>\n",
       "      <td>Anne</td>\n",
       "      <td>40000</td>\n",
       "    </tr>\n",
       "    <tr>\n",
       "      <th>1</th>\n",
       "      <td>Ricky</td>\n",
       "      <td>50000</td>\n",
       "    </tr>\n",
       "    <tr>\n",
       "      <th>2</th>\n",
       "      <td>Rimo</td>\n",
       "      <td>20000</td>\n",
       "    </tr>\n",
       "    <tr>\n",
       "      <th>3</th>\n",
       "      <td>Maria</td>\n",
       "      <td>100000</td>\n",
       "    </tr>\n",
       "    <tr>\n",
       "      <th>4</th>\n",
       "      <td>John</td>\n",
       "      <td>23000</td>\n",
       "    </tr>\n",
       "    <tr>\n",
       "      <th>5</th>\n",
       "      <td>Eric</td>\n",
       "      <td>30000</td>\n",
       "    </tr>\n",
       "    <tr>\n",
       "      <th>6</th>\n",
       "      <td>Eva</td>\n",
       "      <td>35000</td>\n",
       "    </tr>\n",
       "    <tr>\n",
       "      <th>7</th>\n",
       "      <td>An</td>\n",
       "      <td>25000</td>\n",
       "    </tr>\n",
       "    <tr>\n",
       "      <th>8</th>\n",
       "      <td>Mo</td>\n",
       "      <td>70000</td>\n",
       "    </tr>\n",
       "    <tr>\n",
       "      <th>9</th>\n",
       "      <td>Eduard</td>\n",
       "      <td>90000</td>\n",
       "    </tr>\n",
       "  </tbody>\n",
       "</table>\n",
       "</div>"
      ],
      "text/plain": [
       "     Name  Income\n",
       "0    Anne   40000\n",
       "1   Ricky   50000\n",
       "2    Rimo   20000\n",
       "3   Maria  100000\n",
       "4    John   23000\n",
       "5    Eric   30000\n",
       "6     Eva   35000\n",
       "7      An   25000\n",
       "8      Mo   70000\n",
       "9  Eduard   90000"
      ]
     },
     "execution_count": 2,
     "metadata": {},
     "output_type": "execute_result"
    }
   ],
   "source": [
    "# create lists and convert to df  \n",
    "import pandas as pd\n",
    "name = ['Anne', 'Ricky', 'Rimo', 'Maria', 'John', 'Eric', 'Eva', 'An', 'Mo', 'Eduard']\n",
    "income = [40000, 50000, 20000, 100000, 23000, 30000, 35000, 25000, 70000, 90000]\n",
    "  \n",
    "# Calling DataFrame constructor after zipping\n",
    "# both lists, with columns specified\n",
    "participants = pd.DataFrame(list(zip(name, income)),\n",
    "               columns =['Name', 'Income'])\n",
    "participants"
   ]
  },
  {
   "cell_type": "code",
   "execution_count": 3,
   "id": "be9c93fe-3d0e-4635-96bc-926011bcc55b",
   "metadata": {},
   "outputs": [
    {
     "name": "stdout",
     "output_type": "stream",
     "text": [
      "Rimo needs support\n",
      "John needs support\n",
      "An needs support\n"
     ]
    }
   ],
   "source": [
    "for i in range(0,9):\n",
    "    data1 = participants['Income']\n",
    "    data2 = participants['Name']\n",
    "    if data1[i] < 30000:\n",
    "        print(data2[i], 'needs support')"
   ]
  },
  {
   "cell_type": "markdown",
   "id": "9f6806f1-cf99-453e-9316-205f81a576ad",
   "metadata": {},
   "source": [
    "**Terminal command to zip your data (so you can download your folders)**\n",
    "<br>\n",
    "zip -r LEADS_Python_Jupyter_backup.zip LEADS_Python_Jupyter\n"
   ]
  },
  {
   "cell_type": "code",
   "execution_count": null,
   "id": "bd30e92b-d064-482f-b443-1b9d87743144",
   "metadata": {},
   "outputs": [],
   "source": []
  }
 ],
 "metadata": {
  "kernelspec": {
   "display_name": "Python 3 (ipykernel)",
   "language": "python",
   "name": "python3"
  },
  "language_info": {
   "codemirror_mode": {
    "name": "ipython",
    "version": 3
   },
   "file_extension": ".py",
   "mimetype": "text/x-python",
   "name": "python",
   "nbconvert_exporter": "python",
   "pygments_lexer": "ipython3",
   "version": "3.9.7"
  }
 },
 "nbformat": 4,
 "nbformat_minor": 5
}
