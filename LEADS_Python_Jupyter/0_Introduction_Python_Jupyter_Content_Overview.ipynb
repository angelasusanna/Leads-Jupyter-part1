{
 "cells": [
  {
   "cell_type": "markdown",
   "id": "229bf381-19c1-4a6b-8cd6-19efc9813f30",
   "metadata": {},
   "source": [
    "***\n",
    "# Introduction to Python in Jupyter!\n",
    "*by Angela Kross (angela.kross@concordia.ca), May 05, 2022* <br>\n",
    "*Based on material and notebooks from: [Earth Data Science](https://www.earthdatascience.org/courses/intro-to-earth-data-science/), [Data Scientist](https://datascientyst.com), [Folium](https://python-visualization.github.io/folium/index.html#), [Intro to Jupyter notebook](https://github.com/lheagy/leads-intro-jupyter.git), [Intro to Python notebook](https://github.com/jvdkwast/Python3_Jupyter_Notebook.git), [Python for Geospatial Data Analysis](https://github.com/gicait/python-for-geospatial-data-analysis.git)*\n",
    "\n",
    "***\n",
    "`Jupyter is a free, open-source, interactive web tool (called notebook), which can be used to combine software code, coding  outputs, explanatory text, equations and figures in a single document. Jupyter notebooks are a powerful tool for the implementation and sharing of open reproducible science workflows `\n",
    "\n",
    "From the [Jupyter page](https://jupyter.org/):\n",
    "\n",
    "*JupyterLab: A Next-Generation Notebook Interface\n",
    "JupyterLab is the latest web-based interactive development environment for notebooks, code, and data. Its flexible interface allows users to configure and arrange workflows in data science, scientific computing, computational journalism, and machine learning. A modular design invites extensions to expand and enrich functionality.\n",
    "The purpose of this series of slides and Jupyter Notebooks is to briefly introduce you to python and Jupyter, and to get you started on using Python with Jupyter Notebooks.*\n",
    "\n",
    "`Python is a popular general-purpose programming language that can be used for a wide variety of applications. The syntax is easy which makes it a very accessible language. ` \n",
    "\n",
    "From the [Python page](https://docs.python.org/3/faq/general.html#general-information):\n",
    "\n",
    "*Python is an interpreted, interactive, object-oriented programming language. It incorporates modules, exceptions, dynamic typing, very high level dynamic data types, and classes. It supports multiple programming paradigms beyond object-oriented programming, such as procedural and functional programming. Python combines remarkable power with very clear syntax. It has interfaces to many system calls and libraries, as well as to various window systems, and is extensible in C or C++. It is also usable as an extension language for applications that need a programmable interface. Finally, Python is portable: it runs on many Unix variants including Linux and mac OS, and on Windows.*\n",
    "\n",
    "***\n"
   ]
  },
  {
   "cell_type": "markdown",
   "id": "7c8b1b6c-1f14-48e3-8dd7-0e4288ab966d",
   "metadata": {
    "jp-MarkdownHeadingCollapsed": true,
    "tags": []
   },
   "source": [
    "# Learning objectives\n",
    "**At the end of this tutorial you will:**\n",
    "- know how to use Jupyter notebooks to create a document that combines code, outputs, explanatory text and figures\n",
    "- know how to read and store data in python, and how to prepare the data for analysis, plotting and mapping in Jupyter\n",
    "- learn about common packages and notebooks that are useful for a data science workflow"
   ]
  },
  {
   "cell_type": "markdown",
   "id": "e2fa78c2-0684-4e61-b117-eaba642addb9",
   "metadata": {
    "tags": []
   },
   "source": [
    "# Schedule\n",
    "### __[0. Theory - Python](https://docs.google.com/presentation/d/1R4LPYADI9PuEzNG8D3FXrMpDmEbdb70v07rOBux9RDE/edit?usp=sharing)__\n",
    "* [10 min] Instructions for accessing the tutorial notebooks and data, and for accessing the jupyter notebook through Syzygy, learn how to add the tutorial notebooks and data to your workspace\n",
    "* [10 min] Overview of python, and coding in general\n",
    "\n",
    "### __[1: Introduction to Jupyter](1_Introduction_Jupyter.ipynb)__\n",
    "* [20 min] Learn how to work with the notebook:\n",
    "    - how to add cells, change cell types, edit and run cells \n",
    "    - how to set the different cell types: mark down, code, raw\n",
    "    - how to format text in mark down cells\n",
    "    - mini exercise \n",
    "\n",
    "### __[2: Introduction to Python in Jupyter - basics - Part I](2_Introduction_Python_in_Jupyter_basics_partI.ipynb)__\n",
    "* [15 min] Learn some basic Python syntax\n",
    "    - basic coding (accessing directories, commenting, help,...)\n",
    "    - relative file paths\n",
    "    - indentation\n",
    "\n",
    "***\n",
    "### Break [10 min]\n",
    "***\n",
    "   \n",
    "### __[3: Introduction to Python in Jupyter - basics - part II](3_Introduction_Python_in_Jupyter_basics_partII.ipynb)__\n",
    "* [15 min] Explore climates data from Environment Canada - mapping\n",
    "    - how to read and store data, use of variables\n",
    "    - how to process data, how do loops work, and branches? (indentation!) \n",
    "    - how to save data\n",
    "    - how to read and clean tabular data\n",
    "    - mini exercise\n",
    "\n",
    "### __[4: Introduction to Python in Jupyter - mapping](4_Introduction_Python_in_Jupyter_mapping.ipynb)__\n",
    "* [15 min] Explore climates data from Environment Canada - mapping\n",
    "    - how to read and clean tabular data\n",
    "    - how to map data\n",
    "\n",
    "### __[5: Introduction to Python in Jupyter - plotting](5_Introduction_Python_in_Jupyter_plotting.ipynb)__\n",
    "* [20 min] Explore climates data from Environment Canada - plotting\n",
    "    - how to read and clean tabular data\n",
    "    - how to create plots\n",
    "    \n",
    "### __[6: Introduction to Python in Jupyter - other](6_Introduction_Python_in_Jupyter_other.ipynb)__\n",
    "* [5 min] Explore other stuff  \n",
    "    - questions"
   ]
  },
  {
   "cell_type": "code",
   "execution_count": null,
   "id": "bba24b14-83fa-4b68-bc90-10ecc0d667da",
   "metadata": {},
   "outputs": [],
   "source": []
  }
 ],
 "metadata": {
  "kernelspec": {
   "display_name": "Python 3 (ipykernel)",
   "language": "python",
   "name": "python3"
  },
  "language_info": {
   "codemirror_mode": {
    "name": "ipython",
    "version": 3
   },
   "file_extension": ".py",
   "mimetype": "text/x-python",
   "name": "python",
   "nbconvert_exporter": "python",
   "pygments_lexer": "ipython3",
   "version": "3.9.7"
  }
 },
 "nbformat": 4,
 "nbformat_minor": 5
}
