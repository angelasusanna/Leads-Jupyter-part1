{
 "cells": [
  {
   "cell_type": "markdown",
   "id": "f93f9ef2-9835-4334-9c44-6d579e40e940",
   "metadata": {},
   "source": [
    "# For Tutorial 2"
   ]
  },
  {
   "cell_type": "code",
   "execution_count": null,
   "id": "75bff215-7b70-4112-ba53-ffc1a9e64cc6",
   "metadata": {},
   "outputs": [],
   "source": []
  },
  {
   "cell_type": "code",
   "execution_count": null,
   "id": "f4fe2149-883c-4e73-9d2d-c768e5ff4e72",
   "metadata": {
    "tags": []
   },
   "outputs": [],
   "source": [
    "def get_factors(num):\n",
    "    for i in range(1, num + 1):\n",
    "        print ('Calculating the factors!');\n",
    "        if num % i == 0:\n",
    "            print(\"{} is a factor of {}.\".format(i, num))\n",
    "get_factors(10) "
   ]
  },
  {
   "cell_type": "code",
   "execution_count": null,
   "id": "06340f15-e2d2-4375-a5eb-3ba31c4ffb55",
   "metadata": {
    "tags": []
   },
   "outputs": [],
   "source": [
    "def get_factors(num):\n",
    "    for i in range(1, num + 1):\n",
    "        if num % i == 0:\n",
    "            print ('Calculating the factors!');\n",
    "            print(\"{} is a factor of {}.\".format(i, num))\n",
    "get_factors(10) "
   ]
  },
  {
   "cell_type": "code",
   "execution_count": null,
   "id": "90b35b75-0b51-4072-b7e4-161340d16770",
   "metadata": {
    "tags": []
   },
   "outputs": [],
   "source": [
    "def get_factors(num):\n",
    "    for i in range(1, num + 1):\n",
    "        if num % i == 0:\n",
    "            print (i)\n",
    "        print(\"{} is a factor of {}.\".format(i, num))\n",
    "get_factors(10) "
   ]
  },
  {
   "cell_type": "code",
   "execution_count": null,
   "id": "ea21b4ee-f47c-41fa-86db-f12278a03b48",
   "metadata": {},
   "outputs": [],
   "source": [
    "def get_factors(num):\n",
    "    for i in range(1, num + 1):\n",
    "        if num % i == 0:\n",
    "            print (i)\n",
    "    print(\"{} is a factor of {}.\".format(i, num))    \n",
    "get_factors(10) "
   ]
  },
  {
   "cell_type": "code",
   "execution_count": null,
   "id": "c17586ce-7d2c-4576-a928-a35425f9ecdb",
   "metadata": {
    "tags": []
   },
   "outputs": [],
   "source": [
    "def get_factors1(num):\n",
    "    df=open('factorsCorrect.txt','w')\n",
    "    for i in range(1, num + 1):\n",
    "        if num % i == 0:\n",
    "            print(\"{} is a factor of {}.\".format(i, num))\n",
    "            df.write(str(i))\n",
    "            df.write('\\n')       "
   ]
  },
  {
   "cell_type": "code",
   "execution_count": null,
   "id": "a6ebc47e-8896-4571-bfbe-88627d22a7c0",
   "metadata": {},
   "outputs": [],
   "source": [
    "get_factors1(10)"
   ]
  },
  {
   "cell_type": "code",
   "execution_count": null,
   "id": "5af5e9f9-b5e5-4824-889d-a6b5c00fbe47",
   "metadata": {},
   "outputs": [],
   "source": [
    "def get_factors2(num):\n",
    "    df=open('factorsError1.txt','w')\n",
    "    for i in range(1, num + 1):\n",
    "        if num % i == 0:\n",
    "        print(\"{} is a factor of {}.\".format(i, num))\n",
    "            df.write(str(i))\n",
    "            df.write('\\n')  "
   ]
  },
  {
   "cell_type": "code",
   "execution_count": null,
   "id": "8d6fbe73-9699-4651-a16f-b35146419e30",
   "metadata": {},
   "outputs": [],
   "source": [
    "get_factors2(10)"
   ]
  },
  {
   "cell_type": "code",
   "execution_count": null,
   "id": "da0f7b32-2b47-4db0-b05b-9870b79bdb60",
   "metadata": {
    "tags": []
   },
   "outputs": [],
   "source": [
    "def get_factors3(num):\n",
    "    df=open('factorsError2.txt','w')\n",
    "    for i in range(1, num + 1):\n",
    "        if num % i == 0:\n",
    "            print(\"{} is a factor of {}.\".format(i, num))\n",
    "        df.write(str(i))\n",
    "        df.write('\\n') "
   ]
  },
  {
   "cell_type": "code",
   "execution_count": null,
   "id": "161f8460-c691-450a-bd0d-a4da5d58d31f",
   "metadata": {},
   "outputs": [],
   "source": [
    "get_factors3(10)"
   ]
  },
  {
   "cell_type": "code",
   "execution_count": null,
   "id": "8b961657-b966-44b5-8b1b-db61a3121962",
   "metadata": {},
   "outputs": [],
   "source": [
    "def get_factors4(num):\n",
    "    df=open('factorsError3.txt','w')\n",
    "    for i in range(1, num + 1):\n",
    "        if num % i == 0:\n",
    "            print(\"{} is a factor of {}.\".format(i, num))\n",
    "    df.write(str(i))\n",
    "    df.write('\\n') "
   ]
  },
  {
   "cell_type": "code",
   "execution_count": null,
   "id": "4e055c9a-bddf-447a-bd17-c87b47df1a6a",
   "metadata": {},
   "outputs": [],
   "source": [
    "get_factors4(10)"
   ]
  },
  {
   "cell_type": "markdown",
   "id": "37c712df-05c1-4dae-a6fa-cd658a46506e",
   "metadata": {},
   "source": [
    "# For Tutorial 3"
   ]
  },
  {
   "cell_type": "code",
   "execution_count": null,
   "id": "60a247dd-a9f5-4232-b052-1a205e8be5ee",
   "metadata": {},
   "outputs": [],
   "source": [
    "import pandas as pd\n",
    "import io\n",
    "import requests"
   ]
  },
  {
   "cell_type": "code",
   "execution_count": null,
   "id": "21f2a074-8db0-4a2d-ac1b-c42b49837e3b",
   "metadata": {},
   "outputs": [],
   "source": [
    "for year in range (1998, 2000):\n",
    "    for month in range (1, 12):\n",
    "        !wget --content-disposition \"https://climate.weather.gc.ca/climate_data/bulk_data_e.html?format=csv&stationID=1706&Year=${year}&Month=${month}&Day=14&timeframe=3&submit= Download+Data\" "
   ]
  },
  {
   "cell_type": "code",
   "execution_count": null,
   "id": "dbc8143d-2b55-4cca-924f-6b7c8bce0750",
   "metadata": {},
   "outputs": [],
   "source": [
    "import pandas as pd\n",
    "import datetime\n",
    "import matplotlib.pyplot as plt\n",
    "import seaborn as sns\n",
    "from dateutil import rrule\n",
    "from datetime import datetime, timedelta\n",
    "from bs4 import BeautifulSoup\n",
    "import requests\n",
    "import re"
   ]
  },
  {
   "cell_type": "code",
   "execution_count": null,
   "id": "a169cd4e-0eeb-471b-99e3-79d712e1d49f",
   "metadata": {},
   "outputs": [],
   "source": [
    "# Call Environment Canada API\n",
    "# Returns a dataframe of data\n",
    "def getHourlyData(stationID, year, month):\n",
    "    base_url = \"http://climate.weather.gc.ca/climate_data/bulk_data_e.html?\"\n",
    "    query_url = \"format=csv&stationID={}&Year={}&Month={}&timeframe=1\".format(stationID, year, month)\n",
    "    api_endpoint = base_url + query_url\n",
    "    return pd.read_csv(api_endpoint, skiprows=0)"
   ]
  },
  {
   "cell_type": "code",
   "execution_count": null,
   "id": "0a4fb79d-d15a-46ca-a3af-51212951b83a",
   "metadata": {},
   "outputs": [],
   "source": [
    "# Call Environment Canada API\n",
    "# Returns a dataframe of data\n",
    "def getDailyData(stationID, year, month):\n",
    "    base_url = \"http://climate.weather.gc.ca/climate_data/bulk_data_e.html?\"\n",
    "    query_url = \"format=csv&stationID={}&Year={}&Month={}&timeframe=2\".format(stationID, year, month)\n",
    "    api_endpoint = base_url + query_url\n",
    "    return pd.read_csv(api_endpoint, skiprows=0)"
   ]
  },
  {
   "cell_type": "code",
   "execution_count": null,
   "id": "14032b7e-2b6a-4ddd-9bb0-1ed6cc7aec1a",
   "metadata": {
    "tags": []
   },
   "outputs": [],
   "source": [
    "ID = '5836'\n",
    "frames = [] # empty square brackets are used to define a new array\n",
    "for year in range (1990, 2021):\n",
    "    #print(ID, year)\n",
    "    #filename = \"./\" + \"Station\" + ID + \"_\" + str(year) + \".csv\"\n",
    "    outAll = \"./\" + \"StationDaily2\" + ID + \".csv\"\n",
    "    df = getDailyData(ID, year, month)\n",
    "    #df.to_csv(filename)\n",
    "    frames.append(df)\n",
    "    \n",
    "weather_data = pd.concat(frames)\n",
    "weather_data.to_csv(outAll)#, sep='\\t')"
   ]
  },
  {
   "cell_type": "code",
   "execution_count": null,
   "id": "0b1543c8-8792-45c2-a413-668498265f05",
   "metadata": {},
   "outputs": [],
   "source": [
    "# Call Environment Canada API\n",
    "# Returns a dataframe of data\n",
    "def getMonthlyData(stationID, year):\n",
    "    base_url = \"http://climate.weather.gc.ca/climate_data/bulk_data_e.html?\"\n",
    "    query_url = \"format=csv&stationID={}&Year={}&Month=3&timeframe=3\".format(stationID, year)\n",
    "    api_endpoint = base_url + query_url\n",
    "    return pd.read_csv(api_endpoint, skiprows=0)"
   ]
  },
  {
   "cell_type": "code",
   "execution_count": null,
   "id": "86a5fb6c-cef0-4587-a2aa-c8d05fae8dfc",
   "metadata": {
    "tags": []
   },
   "outputs": [],
   "source": [
    "ID = '5217'\n",
    "frames = [] # empty square brackets are used to define a new array\n",
    "for Year in range (1998, 2002):\n",
    "    df = getMonthlyData(ID, year)\n",
    "    frames.append(df)\n",
    "weather_data = pd.concat(frames)\n",
    "weather_data.to_csv('outWeather.csv', sep='\\t')"
   ]
  },
  {
   "cell_type": "code",
   "execution_count": null,
   "id": "2f01c4e3-ba0f-4b1c-b4ba-65ab73e4bdca",
   "metadata": {
    "tags": []
   },
   "outputs": [],
   "source": [
    "ID = '5440'\n",
    "frames = [] # empty square brackets are used to define a new array\n",
    "for year in range (1998, 2002):\n",
    "    print(ID, year)\n",
    "    #filename = \"./\" + \"Station\" + ID + \"_\" + str(year) + \".csv\"\n",
    "    outAll = \"./\" + \"Station\" + ID + \".csv\"\n",
    "    df = getMonthlyData(ID, year)\n",
    "    df.to_csv(filename)\n",
    "    frames.append(df)\n",
    "    \n",
    "weather_data = pd.concat(frames)\n",
    "weather_data.to_csv(outAll)#, sep='\\t')"
   ]
  },
  {
   "cell_type": "code",
   "execution_count": null,
   "id": "3210ceec-fee1-495f-8fbc-801b37287ee3",
   "metadata": {
    "tags": []
   },
   "outputs": [],
   "source": [
    "ID = '48228'\n",
    "frames = [] # empty square brackets are used to define a new array\n",
    "for year in range (1998, 2002):\n",
    "    for month in range(1, 12):\n",
    "        print(ID, year, month)\n",
    "        filename = \"./\" + \"Station\" + ID + \"_\" + str(year) + str(month)+ \".csv\"\n",
    "        df = getMonthlyData(ID, year, month)\n",
    "        df.to_csv(filename)\n",
    "        frames.append(df)\n",
    "        \n",
    "weather_48228 = pd.concat(frames)\n",
    "weather_48228.to_csv('outWeather.csv', sep='\\t')"
   ]
  },
  {
   "cell_type": "code",
   "execution_count": null,
   "id": "ca9572cb-9b92-40b7-86b5-3f5516c497cd",
   "metadata": {},
   "outputs": [],
   "source": [
    "print(weather_data)"
   ]
  },
  {
   "cell_type": "code",
   "execution_count": null,
   "id": "210982fa-ff4e-471c-b412-3a60ffeba971",
   "metadata": {},
   "outputs": [],
   "source": [
    "\n",
    "for i in Stationlist: #start the loop - loop through all Station IDs and use the ID to extract climate data\n",
    "    ID = str(i) #convert the ID which is a integer number to a string, so you can use it as a variable for your output filename.\n",
    "    year = '2010' #set the year you want to extract\n",
    "    outName = workSpace + \"\\\\\" + \"Station\" + ID + \"_\" + year + \".csv\"\n",
    "\n",
    "    url=\"http://climate.weather.gc.ca/climate_data/bulk_data_e.html?format=csv&stationID={}&Year={}&Month=3&Day=14&timeframe=2&submit= Download+Data\".format(ID,year)\n",
    "    s=requests.get(url).content\n",
    "    h=pd.read_csv(io.StringIO(s.decode('utf-8'))) #download the climate data for the Station and year you determined into a variable, h\n",
    "    #h=pd.read_csv(io.StringIO(s.decode('utf-8')), skiprows = 10)\n",
    "\n",
    "    h.to_csv(outName, encoding='utf-8', index=False) #save the variable h as a csv file\n",
    "    print (\"downloaded data for Station\", ID, year) #Check where the scripts is now\n",
    "    i=i+1 #go to the next Station\n"
   ]
  },
  {
   "cell_type": "code",
   "execution_count": null,
   "id": "ea8ba174-aee0-4dc8-8902-712620de6426",
   "metadata": {},
   "outputs": [],
   "source": [
    "# We will now download some climate data for a specific station in Quebec, for a specific year\n",
    "# Determine the parameters to be used in the direct request\n",
    "ID = '5217'\n",
    "year = '2010'\n",
    "#filename = './data/climate.csv'\n",
    "filename = \"./data/\" + \"Station\" + ID + \"_\" + year + \".csv\""
   ]
  },
  {
   "cell_type": "code",
   "execution_count": null,
   "id": "cf1dc6ba-19b7-42f5-b844-d4df8a15f875",
   "metadata": {
    "tags": []
   },
   "outputs": [],
   "source": [
    "# Send the data request to Environment Canada through URL get\n",
    "url=\"http://climate.weather.gc.ca/climate_data/bulk_data_e.html?format=csv&stationID={}&Year={}&Month=3&Day=14&timeframe=2&submit= Download+Data\".format(ID,year)\n",
    "s=requests.get(url).content\n",
    "h=pd.read_csv(io.StringIO(s.decode('utf-8')))\n",
    "#h=pd.read_csv(io.StringIO(s.decode('utf-8')), skiprows = 10)\n",
    "h.to_csv(filename, encoding='utf-8', index=False)"
   ]
  },
  {
   "cell_type": "code",
   "execution_count": null,
   "id": "6b827423-7dc2-4db5-a0b2-0d01d560d064",
   "metadata": {},
   "outputs": [],
   "source": [
    "# We will now download some climate data for a specific station in Quebec, for a specific year\n",
    "# Determine the parameters to be used in the direct request\n",
    "ID = '5217'\n",
    "year = '2010'\n",
    "#filename = './data/climate.csv'\n",
    "filename = \"./data/\" + \"Station\" + ID + \"_\" + year + \".csv\""
   ]
  },
  {
   "cell_type": "code",
   "execution_count": null,
   "id": "a8ea0c33-ec61-4e78-961a-2574d88e0ea7",
   "metadata": {
    "tags": []
   },
   "outputs": [],
   "source": [
    "# Send the data request to Environment Canada through URL get\n",
    "for \n",
    "url=\"http://climate.weather.gc.ca/climate_data/bulk_data_e.html?format=csv&stationID={}&Year={}&Month=3&Day=14&timeframe=2&submit= Download+Data\".format(ID,year)\n",
    "s=requests.get(url).content\n",
    "h=pd.read_csv(io.StringIO(s.decode('utf-8')))\n",
    "#h=pd.read_csv(io.StringIO(s.decode('utf-8')), skiprows = 10)\n",
    "h.to_csv(filename, encoding='utf-8', index=False)"
   ]
  },
  {
   "cell_type": "code",
   "execution_count": null,
   "id": "3e72072c-043b-4100-a42f-2d0339e281a6",
   "metadata": {},
   "outputs": [],
   "source": [
    "#Import necessary libraries\n",
    "import pandas as pd\n",
    "import io\n",
    "import requests\n",
    "import numpy as np"
   ]
  },
  {
   "cell_type": "code",
   "execution_count": null,
   "id": "02c632d2-1e13-46b7-8eff-f2a7c5dccd79",
   "metadata": {},
   "outputs": [],
   "source": [
    "infilename = './data/StationsQC.csv'"
   ]
  },
  {
   "cell_type": "code",
   "execution_count": null,
   "id": "b2b50eac-d84a-4dc9-b8a1-9a388d373ddc",
   "metadata": {
    "tags": []
   },
   "outputs": [],
   "source": [
    "#Determine the file be read\n",
    "infilename = './data/StationsQC.csv'\n",
    "\n",
    "#Read the csv file with the station IDs\n",
    "#The following steps are to convert between different dataformats to enable the conversion\n",
    "#from float to integer, and to screen out stations with no data (NaN) values\n",
    "#\n",
    "df1=pd.read_csv(infilename) #read the data and save in a panda dataframe format\n",
    "List1 = df1.T.values.tolist() #convert the dataframe into a list, variable List1\n",
    "List2 = List1[4] #read the 3rd column which contains the Station IDs, save as variable List2\n",
    "Array1 = (np.asarray(List2)) #convert the List to an array\n",
    "Array2 = Array1[~pd.isnull(Array1)] #now filter only the data with actual values (filter\n",
    "#out the NaN records)\n",
    "Stationlist = [int(round(x)) for x in Array2] #convert the Station IDs from float to Integer\n",
    "print(len(Stationlist))\n",
    "frames=[]\n",
    "\n",
    "for i in Stationlist: #start the loop - loop through all Station IDs and use the ID to extract climate data\n",
    "    ID = str(i) #convert the ID which is a integer number to a string, so you can use it as a variable for your output filename.\n",
    "    year = 2000 #set the year you want to extract\n",
    "    outName = \"Station\" + ID + \"_\" + str(year) + \".csv\"\n",
    "\n",
    "    url=\"http://climate.weather.gc.ca/climate_data/bulk_data_e.html?format=csv&stationID={}&Year={}&Month=3&Day=14&timeframe=3&submit= Download+Data\".format(ID,year)\n",
    "    s=requests.get(url).content\n",
    "    h=pd.read_csv(io.StringIO(s.decode('utf-8'))) #download the climate data for the Station and year you determined into a variable, h\n",
    "    #h=pd.read_csv(io.StringIO(s.decode('utf-8')), skiprows = 10)\n",
    "    frames.append(h)\n",
    "    h.to_csv(outName, encoding='utf-8', index=False) #save the variable h as a csv file\n",
    "    print (\"downloaded data for Station\", ID, year) #Check where the scripts is now\n",
    "    i=i+1 #go to the next Station\n",
    "\n",
    "weather_data = pd.concat(frames)\n",
    "weather_data.to_csv('outWeather.csv')#, sep='\\t')\n",
    "print (\"Finished downloading all the data for all stations in 2000!!\")"
   ]
  },
  {
   "cell_type": "code",
   "execution_count": null,
   "id": "94c68337-e857-43ee-af9d-dae8df2423f8",
   "metadata": {},
   "outputs": [],
   "source": [
    "%debug"
   ]
  },
  {
   "cell_type": "code",
   "execution_count": null,
   "id": "507a0fbd-2fef-4f5d-bb77-6ff792e447b5",
   "metadata": {},
   "outputs": [],
   "source": [
    "print(df1)"
   ]
  },
  {
   "cell_type": "markdown",
   "id": "ebb5f2bd-a4fe-40d3-ad9d-d889077bd26d",
   "metadata": {},
   "source": [
    "# For tutorial 4"
   ]
  },
  {
   "cell_type": "code",
   "execution_count": null,
   "id": "93c5adef-2f46-46d5-b3b8-25b5f974457d",
   "metadata": {},
   "outputs": [],
   "source": [
    "import matplotlib.pyplot as plt\n",
    "import numpy as np\n",
    "import pandas as pd"
   ]
  },
  {
   "cell_type": "code",
   "execution_count": null,
   "id": "994bdaf8-b1bc-4994-ba47-0efa32738e05",
   "metadata": {},
   "outputs": [],
   "source": [
    "infile = \"./data/StationDaily25217.csv\""
   ]
  },
  {
   "cell_type": "code",
   "execution_count": null,
   "id": "882376e9-d312-4bfc-b0de-df81eb6d9c72",
   "metadata": {},
   "outputs": [],
   "source": [
    "inDataAll = pd.read_table(\n",
    "    infile\n",
    ")"
   ]
  },
  {
   "cell_type": "code",
   "execution_count": null,
   "id": "867341a5-5bbb-4a63-b30e-6f4b432f4ceb",
   "metadata": {},
   "outputs": [],
   "source": [
    "inData"
   ]
  },
  {
   "cell_type": "code",
   "execution_count": null,
   "id": "a331373f-40e9-4e88-bebe-9c488d496338",
   "metadata": {},
   "outputs": [],
   "source": [
    "#inData?"
   ]
  },
  {
   "cell_type": "code",
   "execution_count": null,
   "id": "903084ce-b402-4cd7-9d6d-ff9e6c58c193",
   "metadata": {},
   "outputs": [],
   "source": []
  },
  {
   "cell_type": "code",
   "execution_count": null,
   "id": "00b66fe6-de4c-4000-a1d0-fd38ad9bf89b",
   "metadata": {},
   "outputs": [],
   "source": []
  },
  {
   "cell_type": "code",
   "execution_count": null,
   "id": "28d05767-e531-4ee2-b226-434001e49f3a",
   "metadata": {
    "tags": []
   },
   "outputs": [],
   "source": [
    "import pandas as pd\n",
    "from datetime import datetime\n",
    "dateparse = lambda x: datetime.strptime(x, '%Y-%m-%d')\n",
    "DailyWeather= pd.read_csv('StationDaily10873.csv', index_col=5, parse_dates=True, \n",
    "date_parser=dateparse)"
   ]
  },
  {
   "cell_type": "code",
   "execution_count": null,
   "id": "f65d15ea-b00b-4806-b901-4fe6632af7d6",
   "metadata": {},
   "outputs": [],
   "source": [
    "#%debug"
   ]
  },
  {
   "cell_type": "code",
   "execution_count": null,
   "id": "27518315-04bc-488c-90da-7c0e0fbaeeb9",
   "metadata": {
    "tags": []
   },
   "outputs": [],
   "source": [
    "DailyWeather.dtypes"
   ]
  },
  {
   "cell_type": "code",
   "execution_count": 27,
   "id": "188dd971-c14a-4be9-a94f-f259e9a80b67",
   "metadata": {
    "tags": []
   },
   "outputs": [],
   "source": []
  },
  {
   "cell_type": "code",
   "execution_count": null,
   "id": "a98d86fa-0fe5-4310-8b98-9a4543928722",
   "metadata": {},
   "outputs": [],
   "source": []
  },
  {
   "cell_type": "code",
   "execution_count": null,
   "id": "21336d81-3551-4395-9522-70c38ae21b5a",
   "metadata": {},
   "outputs": [],
   "source": [
    "years = pd.unique(DailyWeather[\"Year\"])"
   ]
  },
  {
   "cell_type": "code",
   "execution_count": null,
   "id": "bb9c22dd-cedb-407f-bea5-594df756c24b",
   "metadata": {},
   "outputs": [],
   "source": [
    "years"
   ]
  },
  {
   "cell_type": "code",
   "execution_count": null,
   "id": "6e760a8c-a38f-4849-9445-be38c46302ee",
   "metadata": {
    "jupyter": {
     "source_hidden": true
    },
    "tags": []
   },
   "outputs": [],
   "source": [
    "def calculate_annual_average(data):\n",
    "\n",
    "    years = pd.unique(data[\"Year\"])\n",
    "    noYears = len(years)\n",
    "    means = np.zeros(noYears)\n",
    "    index = 0\n",
    "    \n",
    "    for year in years:\n",
    "        indices_current_year = np.where(data[\"Year\"] == year)\n",
    "        data_current_year = data.iloc[indices_current_year]\n",
    "        Tmax = data[\"Max Temp (°C)\"]\n",
    "        Tmax_current_year = Tmax.iloc[indices_current_year]\n",
    "        #mean_Tmax_current_year =  Tmax_current_year .mean()           \n",
    "        means[index] =  Tmax_current_year.mean()\n",
    "        print(means)\n",
    "        index = index + 1\n",
    "        result = [years, means]\n",
    "        print(result)\n",
    "        result.to_csv('result.csv')#, sep='\\t')\n",
    "        \n",
    "    outAll = \"./data/\" + \"StationDaily2\" + ID + \".csv\" # specify the name of the output file,it will hold the appended file (all years)\n",
    "    df = getDailyData(ID, year)  # call the function within the Loop, the dataframe with results will be saved to the variable df\n",
    "    #df.to_csv(filename) #save the df with one year of data to disk\n",
    "    frames.append(df) # add the data from df to the frames array\n",
    "    \n",
    "weather_data = pd.concat(frames)  # weather data holds the appended data (multiple years)\n",
    "weather_data.to_csv(outAll)#, sep='\\t') # save the appended data to disk\n",
    "\n",
    "\n",
    "arr1 = [1, 2, 3, 4]\n",
    "arr2.append(arr1)\n",
    "all=pd.concat(arr2)"
   ]
  },
  {
   "cell_type": "code",
   "execution_count": 1,
   "id": "600f7122-0db3-4704-995b-f0dd71bf2b0d",
   "metadata": {},
   "outputs": [],
   "source": [
    "import matplotlib.pyplot as plt\n",
    "import numpy as np\n",
    "import pandas as pd\n",
    "\n",
    "from datetime import datetime\n",
    "dateparse = lambda x: datetime.strptime(x, '%Y-%m-%d')\n",
    "DailyWeather= pd.read_csv('StationDaily10873.csv', index_col=5, parse_dates=True, \n",
    "date_parser=dateparse)"
   ]
  },
  {
   "cell_type": "code",
   "execution_count": 24,
   "id": "c6dd8c75-9175-449c-a204-dca8161592c7",
   "metadata": {
    "tags": []
   },
   "outputs": [],
   "source": [
    "def calculate_annual_average(data):\n",
    "    outname = \n",
    "\n",
    "    years = pd.unique(data[\"Year\"])\n",
    "    noYears = len(years)\n",
    "    means = np.zeros(noYears)\n",
    "    yearsData = np.zeros(noYears)\n",
    "    means_years=np.array([])\n",
    "    index = 0\n",
    "    \n",
    "    for year in years:\n",
    "        indices_current_year = np.where(data[\"Year\"] == year)\n",
    "        data_current_year = data.iloc[indices_current_year]\n",
    "        Tmax = data[\"Max Temp (°C)\"]\n",
    "        Tmax_current_year = Tmax.iloc[indices_current_year]\n",
    "        mean_Tmax_current_year = Tmax_current_year.mean()           \n",
    "        means[index] = Tmax_current_year.mean()\n",
    "        yearsData[index] = year\n",
    "        index = index + 1\n",
    "        \n",
    "    means_years=np.column_stack((yearsData,means))\n",
    "    print(means_years)\n",
    "    np.savetxt(\"foo.csv\", means_years, delimiter=\",\")\n",
    "    return means, yearsData, means_years"
   ]
  },
  {
   "cell_type": "code",
   "execution_count": 25,
   "id": "244e4689-5a1b-4184-939c-3aea61b1cd88",
   "metadata": {},
   "outputs": [
    {
     "name": "stdout",
     "output_type": "stream",
     "text": [
      "[[1990.                   nan]\n",
      " [1991.                   nan]\n",
      " [1992.                   nan]\n",
      " [1993.            7.35490196]\n",
      " [1994.           12.95588235]\n",
      " [1995.           11.23434903]\n",
      " [1996.           10.98947368]\n",
      " [1997.           10.63780822]\n",
      " [1998.           13.47758621]\n",
      " [1999.           12.60109589]\n",
      " [2000.           10.50767123]\n",
      " [2001.           12.19860335]\n",
      " [2002.           11.76861111]\n",
      " [2003.            9.24678899]\n",
      " [2004.           10.70593472]\n",
      " [2005.           11.91157025]\n",
      " [2006.           12.27622642]\n",
      " [2007.           10.98696884]\n",
      " [2008.           11.51912568]\n",
      " [2009.           10.98821918]\n",
      " [2010.           12.70617978]\n",
      " [2011.           11.55523256]\n",
      " [2012.           13.06088154]\n",
      " [2013.           11.48111111]\n",
      " [2014.           10.80831025]\n",
      " [2015.           11.78595041]\n",
      " [2016.           12.7867036 ]\n",
      " [2017.           11.87130919]\n",
      " [2018.           11.55502793]\n",
      " [2019.           10.91506849]\n",
      " [2020.           12.74532967]]\n"
     ]
    }
   ],
   "source": [
    "out=calculate_annual_average(DailyWeather)\n",
    "# print(means)\n",
    "# print(years)\n",
    "# print(means_years)"
   ]
  },
  {
   "cell_type": "code",
   "execution_count": null,
   "id": "a4b5822d-9a76-460b-b8d3-a2223d8a4ae5",
   "metadata": {},
   "outputs": [],
   "source": [
    "print(means)\n",
    "print(years)\n",
    "print(means_years)"
   ]
  },
  {
   "cell_type": "code",
   "execution_count": 6,
   "id": "d25816fd-a304-4d17-b7df-86e13db156f5",
   "metadata": {},
   "outputs": [
    {
     "name": "stdout",
     "output_type": "stream",
     "text": [
      "[ 0.         10.91506849  0.          0.          0.          0.\n",
      "  0.          0.          0.          0.          0.          0.\n",
      "  0.          0.          0.          0.          0.          0.\n",
      "  0.          0.          0.          0.          0.          0.\n",
      "  0.          0.          0.          0.          0.          0.\n",
      "  0.        ]\n",
      "[[   0.            0.        ]\n",
      " [2019.           10.91506849]\n",
      " [   0.            0.        ]\n",
      " [   0.            0.        ]\n",
      " [   0.            0.        ]\n",
      " [   0.            0.        ]\n",
      " [   0.            0.        ]\n",
      " [   0.            0.        ]\n",
      " [   0.            0.        ]\n",
      " [   0.            0.        ]\n",
      " [   0.            0.        ]\n",
      " [   0.            0.        ]\n",
      " [   0.            0.        ]\n",
      " [   0.            0.        ]\n",
      " [   0.            0.        ]\n",
      " [   0.            0.        ]\n",
      " [   0.            0.        ]\n",
      " [   0.            0.        ]\n",
      " [   0.            0.        ]\n",
      " [   0.            0.        ]\n",
      " [   0.            0.        ]\n",
      " [   0.            0.        ]\n",
      " [   0.            0.        ]\n",
      " [   0.            0.        ]\n",
      " [   0.            0.        ]\n",
      " [   0.            0.        ]\n",
      " [   0.            0.        ]\n",
      " [   0.            0.        ]\n",
      " [   0.            0.        ]\n",
      " [   0.            0.        ]\n",
      " [   0.            0.        ]]\n"
     ]
    }
   ],
   "source": [
    "data=DailyWeather\n",
    "years = pd.unique(data[\"Year\"])\n",
    "year=2019\n",
    "noYears = len(years)\n",
    "means = np.zeros(noYears)\n",
    "years = np.zeros(noYears)\n",
    "means_years=np.array([])\n",
    "index = 1\n",
    "indices_current_year = np.where(data[\"Year\"] == 2019)\n",
    "Tmax = data[\"Max Temp (°C)\"]\n",
    "Tmax_current_year = Tmax.iloc[indices_current_year]\n",
    "mean_Tmax_current_year =  Tmax_current_year.mean() \n",
    "means[index] = Tmax_current_year.mean()\n",
    "#means[index] = (mean_Tmax_current_year)\n",
    "print(means)\n",
    "years[index] = year\n",
    "means_years=np.column_stack((years,means))\n",
    "print(means_years)\n",
    "index = index + 1\n",
    "#df = pd.DataFrame(mean_year, columns = ['Column_A'])\n",
    "np.savetxt(\"foo.csv\", means_years, delimiter=\",\")"
   ]
  },
  {
   "cell_type": "code",
   "execution_count": null,
   "id": "ede924f9-ec75-43d8-9852-b3807a7b9619",
   "metadata": {},
   "outputs": [],
   "source": []
  },
  {
   "cell_type": "code",
   "execution_count": null,
   "id": "dc1f4ba5-eb4c-41f6-9b30-c118d48dd8dd",
   "metadata": {},
   "outputs": [],
   "source": [
    "print(means)"
   ]
  },
  {
   "cell_type": "code",
   "execution_count": null,
   "id": "3115ecb1-8ab1-43a5-945a-8be9424b86d6",
   "metadata": {},
   "outputs": [],
   "source": [
    "print(data)"
   ]
  },
  {
   "cell_type": "code",
   "execution_count": null,
   "id": "afd7b104-5d3c-4cbf-be3f-9c9a30f44e79",
   "metadata": {},
   "outputs": [],
   "source": []
  },
  {
   "cell_type": "code",
   "execution_count": null,
   "id": "384d9785-367e-4bdd-94d2-188632066462",
   "metadata": {},
   "outputs": [],
   "source": []
  },
  {
   "cell_type": "code",
   "execution_count": null,
   "id": "1ac10c59-6614-4556-9dc6-215c02956041",
   "metadata": {},
   "outputs": [],
   "source": []
  },
  {
   "cell_type": "code",
   "execution_count": null,
   "id": "43d404a9-26e8-49ac-80c7-6c6faa7c768e",
   "metadata": {},
   "outputs": [],
   "source": [
    "import matplotlib.pyplot as plt\n",
    "import numpy as np\n",
    "import pandas as pd\n",
    "data = DailyWeather\n",
    "indices_current_year = np.where(data[\"Year\"] == 2000)\n"
   ]
  },
  {
   "cell_type": "code",
   "execution_count": null,
   "id": "218a5ab4-7581-4b67-b5d8-81d57b16d891",
   "metadata": {},
   "outputs": [],
   "source": [
    "data_current_year = data.iloc[indices_current_year]\n",
    "#data_current_year\n",
    "Tmax = data[\"Max Temp (°C)\"]\n",
    "#Tmax\n",
    "Tmax_current_year = Tmax.iloc[indices_current_year]\n",
    "#Tmax_current_year\n",
    "mean_Tmax_current_year =  Tmax_current_year .mean()\n",
    "mean_Tmax_current_year"
   ]
  },
  {
   "cell_type": "code",
   "execution_count": null,
   "id": "b066415e-ebe1-4437-9336-86cba8c878f5",
   "metadata": {},
   "outputs": [],
   "source": [
    "# Find indices for provinces\n",
    "#indices = np.where(StationsAll[\"Province\"] == 'QUEBEC')"
   ]
  },
  {
   "cell_type": "code",
   "execution_count": null,
   "id": "7d04d076-72d2-48d4-8c84-56211f7f9582",
   "metadata": {},
   "outputs": [],
   "source": [
    "# Print the indices\n",
    "#print (indices)"
   ]
  },
  {
   "cell_type": "code",
   "execution_count": null,
   "id": "2ea5df61-a104-4e1e-8e67-c8a8e79ab842",
   "metadata": {},
   "outputs": [],
   "source": [
    "# Find climate data for Quebec\n",
    "#QCdata = StationsAll.iloc[indices]"
   ]
  },
  {
   "cell_type": "code",
   "execution_count": null,
   "id": "ca1cf548-1312-4bc3-aa43-82e9e92a6e0d",
   "metadata": {},
   "outputs": [],
   "source": [
    "import numpy as np \n",
    "import matplotlib.pyplot as plt \n",
    "  \n",
    "# Creating plot with dataset_1\n",
    "fig, ax1 = plt.subplots() \n",
    "\n",
    "# set color \n",
    "color = 'tab:red'\n",
    "# set labels \n",
    "ax1.set_xlabel('Date') \n",
    "ax1.set_ylabel('Max Temp (°C)', color = color) \n",
    "# Adding title\n",
    "#plt.title('Use different y-axes on the left and right of a Matplotlib plot', fontweight =\"bold\") \n",
    "ax1.set_title('Daily Max and Min Temp for Station5217 in 2010')\n",
    "\n",
    "# plot the min and max lines\n",
    "ax =  DailyWeather['Max Temp (°C)'].plot(label='Max Temp', color='tab:red', figsize=(12, 8))\n",
    "DailyWeather['Min Temp (°C)'].plot(ax=ax, label='Min Temp', color='tab:blue')\n",
    "\n",
    "# add the fill, between min and max\n",
    "plt.fill_between(DailyWeather.index, DailyWeather['Max Temp (°C)'], DailyWeather['Min Temp (°C)'], alpha=0.10, color='tab:orange')\n",
    "\n",
    "\n",
    "# plot cosmetics\n",
    "plt.legend()\n",
    "plt.xlabel('Daily Values')\n",
    "plt.ylabel('Temperature °C')\n",
    "plt.title('Daily Max and Min of Weather Station {}'.format('ID' + \" for \" + year))\n",
    "plt.tight_layout()\n",
    "plt.show()\n"
   ]
  },
  {
   "cell_type": "code",
   "execution_count": null,
   "id": "1488a85a-6a59-4cfe-bb17-a6950c96060b",
   "metadata": {},
   "outputs": [],
   "source": [
    "arr1 = [[1, 2, 3, 4], [8, 9, 10, 12]] # initialize the array elements."
   ]
  },
  {
   "cell_type": "code",
   "execution_count": null,
   "id": "42a1f6a3-de60-401a-a942-4facf61996f9",
   "metadata": {},
   "outputs": [],
   "source": [
    "arr1 = [1, 2, 3, 4]\n",
    "arr2.append(arr1)\n",
    "all=pd.concat(arr2)"
   ]
  },
  {
   "cell_type": "code",
   "execution_count": null,
   "id": "854f3ab2-7204-4b29-b5fe-415e1b52deb8",
   "metadata": {},
   "outputs": [],
   "source": [
    "    df = getDailyData(ID, year)  # call the function within the Loop, the dataframe with results will be saved to the variable df\n",
    "    #df.to_csv(filename) #save the df with one year of data to disk\n",
    "    frames.append(df) # add the data from df to the frames array\n",
    "    \n",
    "weather_data = pd.concat(frames)  # weather data holds the appended data (multiple years)\n",
    "weather_data.to_csv(outAll)#, sep='\\t') # save the appended data to disk"
   ]
  },
  {
   "cell_type": "code",
   "execution_count": null,
   "id": "06af139d-3896-4390-906b-b73596209262",
   "metadata": {},
   "outputs": [],
   "source": [
    "arr1[0]"
   ]
  },
  {
   "cell_type": "code",
   "execution_count": null,
   "id": "c7a1f406-c2cb-4f96-ac4a-eb5897f9ea7d",
   "metadata": {},
   "outputs": [],
   "source": [
    "df = pd. DataFrame(np_array, columns=['Column1', 'Column2']) \n"
   ]
  },
  {
   "cell_type": "code",
   "execution_count": null,
   "id": "b7360cd5-1574-4998-83da-b77c606978d0",
   "metadata": {},
   "outputs": [],
   "source": [
    "print(out)"
   ]
  },
  {
   "cell_type": "code",
   "execution_count": null,
   "id": "12a78c48-2b13-426e-9c52-9c06f7e261c5",
   "metadata": {},
   "outputs": [],
   "source": [
    "print(result)"
   ]
  },
  {
   "cell_type": "code",
   "execution_count": null,
   "id": "d20329bd-6a3e-4515-8be4-0e37aac3445e",
   "metadata": {},
   "outputs": [],
   "source": [
    "\n",
    "a=1\n",
    "b=2\n",
    "empty_array = np.array([])\n",
    "add1 = np.array(a)\n",
    "add2= np.array(b)\n",
    "#to_append = np.array([1, 2, 3])\n",
    "combined1 = np.append(empty_array, add1)\n",
    "combined2 = np.append(combined1, add2)\n",
    "\n",
    "print(combined2)"
   ]
  },
  {
   "cell_type": "code",
   "execution_count": null,
   "id": "711f0ada-20e4-4ac8-a9a3-942d72f38fdb",
   "metadata": {},
   "outputs": [],
   "source": []
  }
 ],
 "metadata": {
  "kernelspec": {
   "display_name": "Python 3 (ipykernel)",
   "language": "python",
   "name": "python3"
  },
  "language_info": {
   "codemirror_mode": {
    "name": "ipython",
    "version": 3
   },
   "file_extension": ".py",
   "mimetype": "text/x-python",
   "name": "python",
   "nbconvert_exporter": "python",
   "pygments_lexer": "ipython3",
   "version": "3.9.7"
  }
 },
 "nbformat": 4,
 "nbformat_minor": 5
}
